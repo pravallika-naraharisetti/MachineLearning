{
  "nbformat": 4,
  "nbformat_minor": 0,
  "metadata": {
    "colab": {
      "provenance": [],
      "authorship_tag": "ABX9TyMh4Fyg0PNuDtq+qHUuMm7F",
      "include_colab_link": true
    },
    "kernelspec": {
      "name": "python3",
      "display_name": "Python 3"
    },
    "language_info": {
      "name": "python"
    }
  },
  "cells": [
    {
      "cell_type": "markdown",
      "metadata": {
        "id": "view-in-github",
        "colab_type": "text"
      },
      "source": [
        "<a href=\"https://colab.research.google.com/github/pravallika-naraharisetti/MachineLearning/blob/main/ID3.ipynb\" target=\"_parent\"><img src=\"https://colab.research.google.com/assets/colab-badge.svg\" alt=\"Open In Colab\"/></a>"
      ]
    },
    {
      "cell_type": "code",
      "execution_count": 4,
      "metadata": {
        "colab": {
          "base_uri": "https://localhost:8080/"
        },
        "id": "9R65zTn-d8BM",
        "outputId": "258862f0-9abe-407e-d7fe-354e2cd09070"
      },
      "outputs": [
        {
          "output_type": "stream",
          "name": "stdout",
          "text": [
            "{'Outlook': {'Rain': 'Yes',\n",
            "             'Sunny': {'Temperature': {'Cool': 'Yes', 'Hot': 'No'}}}}\n"
          ]
        }
      ],
      "source": [
        "import math\n",
        "from collections import Counter\n",
        "\n",
        "# Dataset and feature names\n",
        "data = [\n",
        "    ['Sunny', 'Hot', 'No'],\n",
        "    ['Sunny', 'Cool', 'Yes'],\n",
        "    ['Rain',  'Hot', 'Yes'],\n",
        "    ['Rain',  'Cool', 'Yes'],\n",
        "    ['Sunny', 'Hot', 'No']\n",
        "]\n",
        "features = ['Outlook', 'Temperature']\n",
        "\n",
        "# Entropy function\n",
        "def entropy(labels):\n",
        "    total = len(labels)\n",
        "    counts = Counter(labels)\n",
        "    return -sum((c/total) * math.log2(c/total) for c in counts.values())\n",
        "\n",
        "# Info Gain for a feature\n",
        "def info_gain(data, feature_index):\n",
        "    total_entropy = entropy([row[-1] for row in data])\n",
        "    values = set(row[feature_index] for row in data)\n",
        "    weighted_entropy = 0\n",
        "    for val in values:\n",
        "        subset = [row for row in data if row[feature_index] == val]\n",
        "        subset_labels = [row[-1] for row in subset]\n",
        "        weighted_entropy += len(subset) / len(data) * entropy(subset_labels)\n",
        "    return total_entropy - weighted_entropy\n",
        "\n",
        "# ID3 Algorithm\n",
        "def id3(data, features):\n",
        "    labels = [row[-1] for row in data]\n",
        "    if labels.count(labels[0]) == len(labels):\n",
        "        return labels[0]\n",
        "    if not features:\n",
        "        return Counter(labels).most_common(1)[0][0]\n",
        "\n",
        "    gains = [info_gain(data, i) for i in range(len(features))]\n",
        "    best_index = gains.index(max(gains))\n",
        "    best_feature = features[best_index]\n",
        "\n",
        "    tree = {best_feature: {}}\n",
        "    values = set(row[best_index] for row in data)\n",
        "    for val in values:\n",
        "        subset = [row[:best_index] + row[best_index+1:] for row in data if row[best_index] == val]\n",
        "        sub_features = features[:best_index] + features[best_index+1:]\n",
        "        subtree = id3(subset, sub_features)\n",
        "        tree[best_feature][val] = subtree\n",
        "\n",
        "    return tree\n",
        "\n",
        "# Build tree and display\n",
        "tree = id3(data, features)\n",
        "import pprint\n",
        "pprint.pprint(tree)"
      ]
    }
  ]
}